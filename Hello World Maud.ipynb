{
 "cells": [
  {
   "cell_type": "code",
   "execution_count": 1,
   "id": "d157718f",
   "metadata": {},
   "outputs": [],
   "source": [
    "import pandas as pd\n",
    "import matplotlib.pyplot as plt"
   ]
  },
  {
   "cell_type": "code",
   "execution_count": 2,
   "id": "3d5b8077",
   "metadata": {},
   "outputs": [],
   "source": [
    "df = pd.read_csv('C:/Users/maudh/OneDrive/Documenten/odissei summer school/data_subsample.csv', sep=',')"
   ]
  },
  {
   "cell_type": "code",
   "execution_count": 7,
   "id": "a993c6db",
   "metadata": {},
   "outputs": [
    {
     "name": "stdout",
     "output_type": "stream",
     "text": [
      "<bound method NDFrame.describe of      nomem_encr  cf19l_m  cf19l390  cf19l391  cf19l392    cf19l393  cf19l394  \\\n",
      "0         53334   201909       1.0       4.0       4.0  02-09-2019  18:45:14   \n",
      "1         53334   201909       3.0       4.0       1.0  02-09-2019  22:07:24   \n",
      "2         53337   201909       3.0       3.0       3.0  16-09-2019  13:04:13   \n",
      "3         53337   201909       4.0       3.0       3.0  17-09-2019  11:34:20   \n",
      "4         53339   201909       1.0       3.0       2.0  21-09-2019  13:47:55   \n",
      "..          ...      ...       ...       ...       ...         ...       ...   \n",
      "995       54573   201909       2.0       4.0       4.0  10-09-2019  19:13:54   \n",
      "996       54576   201910       3.0       3.0       3.0  13-10-2019  14:41:56   \n",
      "997       54576   201909       2.0       4.0       3.0  05-09-2019  13:08:23   \n",
      "998       54577   201910       3.0       3.0       2.0  17-10-2019  19:03:31   \n",
      "999       54577   201909       4.0       4.0       4.0  16-09-2019  11:44:03   \n",
      "\n",
      "       cf19l395  cf19l396  cf19l397  \n",
      "0    02-09-2019  18:49:29     255.0  \n",
      "1    02-09-2019  22:17:23     599.0  \n",
      "2    16-09-2019  13:06:53     160.0  \n",
      "3    17-09-2019  11:45:07     647.0  \n",
      "4    21-09-2019  13:51:55     240.0  \n",
      "..          ...       ...       ...  \n",
      "995  10-09-2019  19:24:47     653.0  \n",
      "996  13-10-2019  14:50:31     515.0  \n",
      "997  11-09-2019  16:41:11  531168.0  \n",
      "998  17-10-2019  19:11:01     450.0  \n",
      "999  16-09-2019  11:45:51     108.0  \n",
      "\n",
      "[1000 rows x 10 columns]>\n"
     ]
    },
    {
     "data": {
      "text/html": [
       "<div>\n",
       "<style scoped>\n",
       "    .dataframe tbody tr th:only-of-type {\n",
       "        vertical-align: middle;\n",
       "    }\n",
       "\n",
       "    .dataframe tbody tr th {\n",
       "        vertical-align: top;\n",
       "    }\n",
       "\n",
       "    .dataframe thead th {\n",
       "        text-align: right;\n",
       "    }\n",
       "</style>\n",
       "<table border=\"1\" class=\"dataframe\">\n",
       "  <thead>\n",
       "    <tr style=\"text-align: right;\">\n",
       "      <th></th>\n",
       "      <th>nomem_encr</th>\n",
       "      <th>cf19l_m</th>\n",
       "      <th>cf19l390</th>\n",
       "      <th>cf19l391</th>\n",
       "      <th>cf19l392</th>\n",
       "      <th>cf19l393</th>\n",
       "      <th>cf19l394</th>\n",
       "      <th>cf19l395</th>\n",
       "      <th>cf19l396</th>\n",
       "      <th>cf19l397</th>\n",
       "    </tr>\n",
       "  </thead>\n",
       "  <tbody>\n",
       "    <tr>\n",
       "      <th>0</th>\n",
       "      <td>53334</td>\n",
       "      <td>201909</td>\n",
       "      <td>1.0</td>\n",
       "      <td>4.0</td>\n",
       "      <td>4.0</td>\n",
       "      <td>02-09-2019</td>\n",
       "      <td>18:45:14</td>\n",
       "      <td>02-09-2019</td>\n",
       "      <td>18:49:29</td>\n",
       "      <td>255.0</td>\n",
       "    </tr>\n",
       "    <tr>\n",
       "      <th>1</th>\n",
       "      <td>53334</td>\n",
       "      <td>201909</td>\n",
       "      <td>3.0</td>\n",
       "      <td>4.0</td>\n",
       "      <td>1.0</td>\n",
       "      <td>02-09-2019</td>\n",
       "      <td>22:07:24</td>\n",
       "      <td>02-09-2019</td>\n",
       "      <td>22:17:23</td>\n",
       "      <td>599.0</td>\n",
       "    </tr>\n",
       "    <tr>\n",
       "      <th>2</th>\n",
       "      <td>53337</td>\n",
       "      <td>201909</td>\n",
       "      <td>3.0</td>\n",
       "      <td>3.0</td>\n",
       "      <td>3.0</td>\n",
       "      <td>16-09-2019</td>\n",
       "      <td>13:04:13</td>\n",
       "      <td>16-09-2019</td>\n",
       "      <td>13:06:53</td>\n",
       "      <td>160.0</td>\n",
       "    </tr>\n",
       "    <tr>\n",
       "      <th>3</th>\n",
       "      <td>53337</td>\n",
       "      <td>201909</td>\n",
       "      <td>4.0</td>\n",
       "      <td>3.0</td>\n",
       "      <td>3.0</td>\n",
       "      <td>17-09-2019</td>\n",
       "      <td>11:34:20</td>\n",
       "      <td>17-09-2019</td>\n",
       "      <td>11:45:07</td>\n",
       "      <td>647.0</td>\n",
       "    </tr>\n",
       "    <tr>\n",
       "      <th>4</th>\n",
       "      <td>53339</td>\n",
       "      <td>201909</td>\n",
       "      <td>1.0</td>\n",
       "      <td>3.0</td>\n",
       "      <td>2.0</td>\n",
       "      <td>21-09-2019</td>\n",
       "      <td>13:47:55</td>\n",
       "      <td>21-09-2019</td>\n",
       "      <td>13:51:55</td>\n",
       "      <td>240.0</td>\n",
       "    </tr>\n",
       "  </tbody>\n",
       "</table>\n",
       "</div>"
      ],
      "text/plain": [
       "   nomem_encr  cf19l_m  cf19l390  cf19l391  cf19l392    cf19l393  cf19l394  \\\n",
       "0       53334   201909       1.0       4.0       4.0  02-09-2019  18:45:14   \n",
       "1       53334   201909       3.0       4.0       1.0  02-09-2019  22:07:24   \n",
       "2       53337   201909       3.0       3.0       3.0  16-09-2019  13:04:13   \n",
       "3       53337   201909       4.0       3.0       3.0  17-09-2019  11:34:20   \n",
       "4       53339   201909       1.0       3.0       2.0  21-09-2019  13:47:55   \n",
       "\n",
       "     cf19l395  cf19l396  cf19l397  \n",
       "0  02-09-2019  18:49:29     255.0  \n",
       "1  02-09-2019  22:17:23     599.0  \n",
       "2  16-09-2019  13:06:53     160.0  \n",
       "3  17-09-2019  11:45:07     647.0  \n",
       "4  21-09-2019  13:51:55     240.0  "
      ]
     },
     "execution_count": 7,
     "metadata": {},
     "output_type": "execute_result"
    }
   ],
   "source": [
    "print(df.describe)\n",
    "df.head()"
   ]
  },
  {
   "cell_type": "code",
   "execution_count": 4,
   "id": "89ef8314",
   "metadata": {},
   "outputs": [
    {
     "data": {
      "text/plain": [
       "(array([146.,  68.,  34.,  28.,  12.,  37.,  10.,  31.,   0.,  26.,  13.,\n",
       "         73.,  10.,  73.,  52.,  26.,   0.,  60.,  31.,  35.,  15.,  31.,\n",
       "          8.,   2.,   0.,   4.,  19.,   3.,  18.,   5.,  15.,  24.,  13.,\n",
       "          0.,   9.,   3.,   9.,   1.,  22.,   2.,   4.,   0.,   3.,   9.,\n",
       "          5.,   1.,   2.,   2.,   4.,   2.]),\n",
       " array([ 0.  ,  0.88,  1.76,  2.64,  3.52,  4.4 ,  5.28,  6.16,  7.04,\n",
       "         7.92,  8.8 ,  9.68, 10.56, 11.44, 12.32, 13.2 , 14.08, 14.96,\n",
       "        15.84, 16.72, 17.6 , 18.48, 19.36, 20.24, 21.12, 22.  , 22.88,\n",
       "        23.76, 24.64, 25.52, 26.4 , 27.28, 28.16, 29.04, 29.92, 30.8 ,\n",
       "        31.68, 32.56, 33.44, 34.32, 35.2 , 36.08, 36.96, 37.84, 38.72,\n",
       "        39.6 , 40.48, 41.36, 42.24, 43.12, 44.  ]),\n",
       " <BarContainer object of 50 artists>)"
      ]
     },
     "execution_count": 4,
     "metadata": {},
     "output_type": "execute_result"
    },
    {
     "data": {
      "image/png": "[encoded data removed]",
      "text/plain": [
       "<Figure size 640x480 with 1 Axes>"
      ]
     },
     "metadata": {},
     "output_type": "display_data"
    }
   ],
   "source": [
    "plt.hist(df['cf19l393'], bins=50)"
   ]
  },
  {
   "cell_type": "code",
   "execution_count": null,
   "id": "f0c80187",
   "metadata": {},
   "outputs": [],
   "source": []
  }
 ],
 "metadata": {
  "kernelspec": {
   "display_name": "Python 3 (ipykernel)",
   "language": "python",
   "name": "python3"
  },
  "language_info": {
   "codemirror_mode": {
    "name": "ipython",
    "version": 3
   },
   "file_extension": ".py",
   "mimetype": "text/x-python",
   "name": "python",
   "nbconvert_exporter": "python",
   "pygments_lexer": "ipython3",
   "version": "3.9.13"
  }
 },
 "nbformat": 4,
 "nbformat_minor": 5
}
